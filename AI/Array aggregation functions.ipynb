{
 "cells": [
  {
   "cell_type": "code",
   "execution_count": 5,
   "id": "6068ffbd",
   "metadata": {},
   "outputs": [
    {
     "name": "stdout",
     "output_type": "stream",
     "text": [
      "a : [1 2 3 4 5]\n",
      "sum : 15\n",
      "product : 120\n",
      "mean : 3.0\n",
      "standard deviation : 1.4142135623730951\n",
      "variance : 2.0\n",
      "minimum value : 1\n",
      "maximum value : 5\n",
      "minimum index : 0\n",
      "maximum index : 4\n",
      "median : 3.0\n"
     ]
    }
   ],
   "source": [
    "import numpy as np\n",
    "a = np.array([1,2,3,4,5])\n",
    "print(\"a :\",a)\n",
    "sum = np.sum(a)\n",
    "print(\"sum :\",sum)\n",
    "product = np.prod(a)\n",
    "print(\"product :\",product)\n",
    "mean = np.mean(a)\n",
    "print(\"mean :\",mean)\n",
    "standard_deviation = np.std(a)\n",
    "print(\"standard deviation :\", standard_deviation)\n",
    "variance = np.var(a)\n",
    "print(\"variance :\",variance)\n",
    "minimum = np.min(a)\n",
    "print(\"minimum value :\",minimum)\n",
    "maximum = np.max(a)\n",
    "print('maximum value :',maximum)\n",
    "minimum_index = np.argmin(a)\n",
    "print('minimum index :',minimum_index)\n",
    "maximum_index = np.argmax(a)\n",
    "print('maximum index :',maximum_index)\n",
    "median = np.median(a)\n",
    "print('median :',median)"
   ]
  },
  {
   "cell_type": "code",
   "execution_count": null,
   "id": "747447d2",
   "metadata": {},
   "outputs": [],
   "source": []
  }
 ],
 "metadata": {
  "kernelspec": {
   "display_name": "Python 3 (ipykernel)",
   "language": "python",
   "name": "python3"
  },
  "language_info": {
   "codemirror_mode": {
    "name": "ipython",
    "version": 3
   },
   "file_extension": ".py",
   "mimetype": "text/x-python",
   "name": "python",
   "nbconvert_exporter": "python",
   "pygments_lexer": "ipython3",
   "version": "3.9.13"
  }
 },
 "nbformat": 4,
 "nbformat_minor": 5
}
